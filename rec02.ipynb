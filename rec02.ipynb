{
 "cells": [
  {
   "cell_type": "code",
   "execution_count": null,
   "metadata": {
    "collapsed": true
   },
   "outputs": [],
   "source": []
  },
  {
   "cell_type": "markdown",
   "metadata": {},
   "source": [
    "# CS 1656 – Introduction to Data Science (Fall 2019) \n",
    "\n",
    "## Instructor: Alexandros Labrinidis / Teaching Assistant: Xiaoting Li\n",
    "\n",
    "### Additional Credits: T. Arabghalizi, E. Karageorgos, P. Pham, A. Shein, Z. Agha\n",
    "---\n",
    "In this recitation you will be learning pandas dataframe basics and plotting in Python. In the end you will see an example for NLTK that is related to your first assignment. \n",
    "\n",
    "Packages you will need are,\n",
    "* pandas\n",
    "* matplotlib\n",
    "\n",
    "First step is to import the packages above. If import fails, it means that the package is not installed and you need to install the package using \"pip install package_name\"."
   ]
  },
  {
   "cell_type": "code",
   "execution_count": null,
   "metadata": {
    "collapsed": true
   },
   "outputs": [],
   "source": [
    "import matplotlib.pyplot as plt\n",
    "import pandas as pd\n",
    "import datetime"
   ]
  },
  {
   "cell_type": "markdown",
   "metadata": {},
   "source": [
    "For the sake of interactive display in Jupyter, we will enable matplotlib inline."
   ]
  },
  {
   "cell_type": "code",
   "execution_count": null,
   "metadata": {
    "collapsed": true
   },
   "outputs": [],
   "source": [
    "%matplotlib inline"
   ]
  },
  {
   "cell_type": "markdown",
   "metadata": {},
   "source": [
    "## Dataframe Basics\n",
    "\n",
    "DataFrame is a 2-dimensional labeled data structure with columns of potentially different types. You can think of it like a spreadsheet or SQL table. DataFrame accepts many different kinds of input:\n",
    "*Dict of 1D ndarrays, lists, dicts, or Series\n",
    "*2-D numpy.ndarray\n",
    "*Structured or record ndarray\n",
    "*A Series\n",
    "*Another DataFrame\n",
    "\n",
    "Along with the data, you can optionally pass index (row labels) and columns (column labels) arguments.\n",
    "\n",
    "Now what is a Series?\n",
    "Series is a one-dimensional labeled array capable of holding any data type (integers, strings, floating point numbers, Python objects, etc.). You can think of it as a 1-dimensional dataframe. Series objects can also have index. \n",
    "### Creating a Dataframe\n",
    "We will start off by creating  a dataframe from Weather Undergraound Data retreived from the url below."
   ]
  },
  {
   "cell_type": "code",
   "execution_count": null,
   "metadata": {
    "collapsed": true
   },
   "outputs": [],
   "source": [
    "df = pd.read_csv('http://data.cs1656.org/KPIT_Aug17.csv',\\\n",
    "                       sep=',', engine='python', parse_dates=['EST'])"
   ]
  },
  {
   "cell_type": "markdown",
   "metadata": {},
   "source": [
    "To display the top 'n' rows of the dataframe, use the head() command below. The default is 5 rows."
   ]
  },
  {
   "cell_type": "code",
   "execution_count": null,
   "metadata": {
    "collapsed": true
   },
   "outputs": [],
   "source": [
    "df.head()"
   ]
  },
  {
   "cell_type": "markdown",
   "metadata": {},
   "source": [
    "Now to find all the column names of the dataframe and their data types, type the following command."
   ]
  },
  {
   "cell_type": "code",
   "execution_count": null,
   "metadata": {
    "collapsed": true
   },
   "outputs": [],
   "source": [
    "df.dtypes"
   ]
  },
  {
   "cell_type": "markdown",
   "metadata": {},
   "source": [
    "Notice the type of 'EST' column. We will find out why that's relevant a few steps later.\n",
    "### Accessing Dataframe Columns\n",
    "There are two ways to access a dataframe column. \n",
    "The first way is accessing it like a dictionary as shown below. We will be using head function to show the first few rows only."
   ]
  },
  {
   "cell_type": "code",
   "execution_count": null,
   "metadata": {
    "collapsed": true
   },
   "outputs": [],
   "source": [
    "df['EST'].head()"
   ]
  },
  {
   "cell_type": "markdown",
   "metadata": {},
   "source": [
    "The second way is to access using dot. But this only works if the column name is a valid variable name without any spacing."
   ]
  },
  {
   "cell_type": "code",
   "execution_count": null,
   "metadata": {
    "collapsed": true
   },
   "outputs": [],
   "source": [
    "df.EST.head()"
   ]
  },
  {
   "cell_type": "markdown",
   "metadata": {},
   "source": [
    "You can also access multiple columns by passing list of column names."
   ]
  },
  {
   "cell_type": "code",
   "execution_count": null,
   "metadata": {
    "collapsed": true
   },
   "outputs": [],
   "source": [
    "df[['EST','Mean TemperatureF']].head()"
   ]
  },
  {
   "cell_type": "markdown",
   "metadata": {},
   "source": [
    "---\n",
    "## Plotting\n",
    "### Basic Plot"
   ]
  },
  {
   "cell_type": "markdown",
   "metadata": {},
   "source": [
    "Now lets start with basic plotting in Python first. We will use the plot function. Note that plot returns a tuple of handle and labels. If you need the plot handle in the future you will assign a variable to the plot function's return value."
   ]
  },
  {
   "cell_type": "code",
   "execution_count": null,
   "metadata": {
    "collapsed": true
   },
   "outputs": [],
   "source": [
    "p1 = plt.plot(df['EST'],df['MeanDew PointF'])\n",
    "p2 = plt.plot(df['EST'],df['Mean TemperatureF'])\n",
    "plt.legend([p1[0],p2[0]], ['Mean Dew Point', 'Mean Temperature'])\n",
    "\n",
    "plt.show()"
   ]
  },
  {
   "cell_type": "markdown",
   "metadata": {},
   "source": [
    "That does not look too pretty. Let's format the graph and plot again. "
   ]
  },
  {
   "cell_type": "code",
   "execution_count": null,
   "metadata": {
    "collapsed": true
   },
   "outputs": [],
   "source": [
    "# Initializing a larger figure\n",
    "fig = plt.figure(figsize=(10, 6))\n",
    "\n",
    "# PLotting\n",
    "p1 = plt.plot(df['EST'],df['MeanDew PointF'])\n",
    "p2 = plt.plot(df['EST'],df['Mean TemperatureF'])\n",
    "plt.legend([p1[0],p2[0]], ['Mean Dew Point', 'Mean Temperature'])\n",
    "\n",
    "# Formatting graph\n",
    "plt.xticks(rotation = 90, fontsize = 8)\n",
    "plt.xlabel('Date')\n",
    "plt.ylabel('Mean Temperature')\n",
    "plt.title('Mean Tempertaures for August 2017')\n",
    "\n",
    "# Are we ready to show the formatted graph now? Not yet. Because we want\n",
    "# to save our graph figure this time.In order to use the save command, it\n",
    "# is important to save before the show command because the show command\n",
    "# clears the axis of the figure after displaying.\n",
    "\n",
    "plt.savefig(\"basic_plot.png\")\n",
    "plt.show()"
   ]
  },
  {
   "cell_type": "markdown",
   "metadata": {},
   "source": [
    "### Bar Plot"
   ]
  },
  {
   "cell_type": "code",
   "execution_count": null,
   "metadata": {
    "collapsed": true,
    "scrolled": false
   },
   "outputs": [],
   "source": [
    "fig = plt.figure(figsize=(10, 6))\n",
    "plt.bar(range(len(df['EST'])),df['Mean Humidity'], align = 'center')\n",
    "\n",
    "# Formatting graph\n",
    "plt.xticks(range(len(df['EST'])), df['EST'].dt.strftime('%Y-%m-%d'),\\\n",
    "               rotation = 90, fontsize = 8)\n",
    "plt.xlabel('Date')\n",
    "plt.ylabel('Mean Humidity')\n",
    "plt.title('Mean Humidity for August 2017')\n",
    "\n",
    "plt.savefig(\"bar_plot.png\")\n",
    "plt.show()"
   ]
  },
  {
   "cell_type": "markdown",
   "metadata": {},
   "source": [
    "Now, lets try to plot the two graphs above on the same figure using subplots. The code for plotting is the same as that shown above. "
   ]
  },
  {
   "cell_type": "code",
   "execution_count": null,
   "metadata": {
    "collapsed": true
   },
   "outputs": [],
   "source": [
    "fig = plt.figure(figsize=(10, 16))\n",
    "\n",
    "# Subplot of basic graph\n",
    "plt.subplot(211)\n",
    "p1 = plt.plot(df['EST'],df['MeanDew PointF'])\n",
    "p2 = plt.plot(df['EST'],df['Mean TemperatureF'])\n",
    "plt.legend([p1[0],p2[0]], ['Mean Dew Point', 'Mean Temperature'])\n",
    "\n",
    "plt.xticks(rotation = 90, fontsize = 8)\n",
    "plt.xlabel('Date')\n",
    "plt.ylabel('Mean Temperature')\n",
    "plt.title('Mean Tempertaures for August 2017')\n",
    "\n",
    "# Subplot of bar graph graph\n",
    "plt.subplot(212)\n",
    "plt.bar(range(len(df['EST'])),df['Mean Humidity'], align = 'center')\n",
    "\n",
    "plt.xticks(range(len(df['EST'])), df['EST'].dt.strftime('%Y-%m-%d'),\\\n",
    "               rotation = 90, fontsize = 8)\n",
    "plt.xlabel('Date')\n",
    "plt.ylabel('Mean Humidity')\n",
    "plt.title('Mean Humidity for August 2017')\n",
    "\n",
    "plt.savefig(\"subplot_basic_bar.png\")\n",
    "plt.show()"
   ]
  },
  {
   "cell_type": "markdown",
   "metadata": {},
   "source": [
    "What is the advantage of subplots? It allows us to establish relationships between different variables and different statistics. Looking at the two subplots above, do you notice any relationship?\n",
    "\n",
    "### Scatter Plot\n",
    "Scatter plots are commonly used to show correlation between variables. If the data points make a straight line going from the origin out to high x and high y values, then the variables are said to have a positive correlation. If the line goes from a high value on the y-axis down to a high value on the x-axis, the variables have a negative correlation. The closer the data points in the scatter plot, the higher the correlation between the two variables, or the stronger the relationship."
   ]
  },
  {
   "cell_type": "code",
   "execution_count": null,
   "metadata": {
    "collapsed": true
   },
   "outputs": [],
   "source": [
    "fig = plt.figure(figsize=(10, 6))\n",
    "\n",
    "plt.scatter(df['Max TemperatureF'],df['Min TemperatureF'])\n",
    "\n",
    "# Formatting graph\n",
    "plt.xlabel('Max Temperture')\n",
    "plt.ylabel('Min Temperature')\n",
    "plt.title('Min and Max Temperature for August 2017')\n",
    "\n",
    "plt.savefig(\"scatter_plot.png\")\n",
    "plt.show()"
   ]
  },
  {
   "cell_type": "markdown",
   "metadata": {},
   "source": [
    "The graph above shows us that min and max temperature have a strong positive correlation."
   ]
  },
  {
   "cell_type": "markdown",
   "metadata": {},
   "source": [
    "# NLTK and Stemming:\n",
    "Stemming usually refers to a crude heuristic process that chops off the ends of words in the hope of achieving this goal \n",
    "correctly most of the time, and often includes the removal of derivational affixes.  "
   ]
  },
  {
   "cell_type": "code",
   "execution_count": null,
   "metadata": {
    "collapsed": true
   },
   "outputs": [],
   "source": [
    "import nltk\n",
    "nltk.download('punkt')\n",
    "mysentence = \"\"\"During a manned mission to Mars, Astronaut Mark Watney \n",
    "            (Matt Damon) is presumed dead after a fierce storm and left behind \n",
    "            by his crew.But Watney has survived and finds himself stranded and alone on the hostile planet.\"\"\"\n",
    "\n",
    "mysentencetokens = nltk.word_tokenize(mysentence)\n",
    "#Stemming\n",
    "porter = nltk.PorterStemmer()\n",
    "looper = 0\n",
    "for token in mysentencetokens:\n",
    "        mysentencetokens[looper] = porter.stem(token)\n",
    "        looper += 1\n",
    "print (\"Stemmed -->\")\n",
    "print (mysentencetokens)"
   ]
  },
  {
   "cell_type": "markdown",
   "metadata": {},
   "source": [
    "## Tasks\n",
    "For your tasks, the input file is available at http://data.cs1656.org/top12cities.csv. The file consists of population density estimates and land area of several cities in USA. \n",
    "\n",
    "You need to read the file into a dataframe and perform the following three tasks during the lab. \n",
    "\n",
    "**Task 1** \n",
    "\n",
    "Plot a scatter plot of with 'land area' on the x-axis and '2014 estimate' on the y-axis. After observing the plot, do you think the two variables are strongly or weakly correlated? Is the correlation positive or negative?\n",
    "\n",
    "**Task 2** \n",
    "\n",
    "Plot a bar plot showing each city's 2014 population estimate given by '2014 estimate' column. \n",
    "\n",
    "**Task 3** \n",
    "\n",
    "Now that you plotted a simple bar plot, try plotting a grouped bar plot that shows both 2010 and 2014 estimate for each city on the same plot. This means that there will be two grouped bars per city on your graph. \n"
   ]
  },
  {
   "cell_type": "code",
   "execution_count": null,
   "metadata": {
    "collapsed": true
   },
   "outputs": [],
   "source": []
  }
 ],
 "metadata": {
  "anaconda-cloud": {},
  "kernelspec": {
   "display_name": "Python 3",
   "language": "python",
   "name": "python3"
  },
  "language_info": {
   "codemirror_mode": {
    "name": "ipython",
    "version": 3
   },
   "file_extension": ".py",
   "mimetype": "text/x-python",
   "name": "python",
   "nbconvert_exporter": "python",
   "pygments_lexer": "ipython3",
   "version": "3.6.3"
  }
 },
 "nbformat": 4,
 "nbformat_minor": 2
}
